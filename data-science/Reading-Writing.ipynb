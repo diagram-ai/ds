{
 "cells": [
  {
   "cell_type": "markdown",
   "metadata": {},
   "source": [
    "In Python, you don’t need to import a library in order to read and write files. It’s handled natively in the language.The first thing you’ll need to do is use Python’s built-in open function to get a file object. \n",
    "\n",
    "The open function opens a file. It’s simple. When you use the open function, it returns something called a file object. File objects contain methods and attributes that can be used to collect information about the file you opened. They can also be used to manipulate said file.\n",
    "\n",
    "Here we open a file and use write function to write some sentences into the the test.txt file."
   ]
  },
  {
   "cell_type": "code",
   "execution_count": 21,
   "metadata": {
    "collapsed": false
   },
   "outputs": [],
   "source": [
    "file = open('test.txt','w') \n",
    " \n",
    "file.write('Hello World ') \n",
    "file.write('This is our new text file ') \n",
    "file.write('and this is another line. ') \n",
    "file.write('Why? Because we can. ') \n",
    "file.close() "
   ]
  },
  {
   "cell_type": "markdown",
   "metadata": {},
   "source": [
    "There are actually a number of ways to read a text file in Python, not just one. Here we use read function to read the txt file. You could also use number of libraries like pandas to read files of different format."
   ]
  },
  {
   "cell_type": "code",
   "execution_count": 22,
   "metadata": {
    "collapsed": false
   },
   "outputs": [
    {
     "name": "stdout",
     "output_type": "stream",
     "text": [
      "Hello World This is our new text file and this is another line. Why? Because we can. \n"
     ]
    }
   ],
   "source": [
    "file = open('test.txt', 'r') \n",
    "print (file.read())"
   ]
  },
  {
   "cell_type": "code",
   "execution_count": null,
   "metadata": {
    "collapsed": true
   },
   "outputs": [],
   "source": []
  }
 ],
 "metadata": {
  "kernelspec": {
   "display_name": "Python 3",
   "language": "python",
   "name": "python3"
  },
  "language_info": {
   "codemirror_mode": {
    "name": "ipython",
    "version": 3
   },
   "file_extension": ".py",
   "mimetype": "text/x-python",
   "name": "python",
   "nbconvert_exporter": "python",
   "pygments_lexer": "ipython3",
   "version": "3.6.1"
  }
 },
 "nbformat": 4,
 "nbformat_minor": 2
}

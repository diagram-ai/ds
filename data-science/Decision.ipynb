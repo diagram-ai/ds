{
 "cells": [
  {
   "cell_type": "markdown",
   "metadata": {},
   "source": [
    "The decision making concept is the ability to decide upon something based on the given data. Here the program uses various comparators like , <=, ==,>= etc to decide on something that matters the most based on the input given by the program. A tutorial is attached below.Decision making is dealing with several types of conditions that used to occurs at the time of program execution. Decision structures evaluate multiple expressions which produce result in from of either True or False."
   ]
  },
  {
   "cell_type": "markdown",
   "metadata": {},
   "source": [
    "Here we will take an example of cricket match "
   ]
  },
  {
   "cell_type": "markdown",
   "metadata": {},
   "source": [
    "Here we will write a program to say which team can chase what score. Here we input the score at the beginning, in this case score = 190. Later we \"if\" \"else\" keywords with the comparator \"==\"(equal to) and \"<\" (less than) to write a program in python as to which team would be able to chase the score given."
   ]
  },
  {
   "cell_type": "code",
   "execution_count": 3,
   "metadata": {
    "collapsed": false
   },
   "outputs": [],
   "source": [
    "score = 190"
   ]
  },
  {
   "cell_type": "code",
   "execution_count": 4,
   "metadata": {
    "collapsed": false
   },
   "outputs": [
    {
     "name": "stdout",
     "output_type": "stream",
     "text": [
      "What's the ideal score to chase??\n",
      "Find out, @ #IPL!\n"
     ]
    }
   ],
   "source": [
    "if score < 160:\n",
    " print (\"Score is less than 190\")\n",
    " if score == 180:\n",
    "     print (\"CSK can chase it.\")\n",
    " elif score == 160:\n",
    "     print (\"MI can chase it.\")\n",
    " elif score == 140:\n",
    "     print (\"DD can chase it.\")\n",
    " elif score < 130:\n",
    "     print (\"Score is less than 130\")\n",
    "else:\n",
    "     print (\"What's the ideal score to chase??\")\n",
    "print (\"Find out, @ #IPL!\")"
   ]
  },
  {
   "cell_type": "code",
   "execution_count": null,
   "metadata": {
    "collapsed": true
   },
   "outputs": [],
   "source": []
  }
 ],
 "metadata": {
  "kernelspec": {
   "display_name": "Python 3",
   "language": "python",
   "name": "python3"
  },
  "language_info": {
   "codemirror_mode": {
    "name": "ipython",
    "version": 3
   },
   "file_extension": ".py",
   "mimetype": "text/x-python",
   "name": "python",
   "nbconvert_exporter": "python",
   "pygments_lexer": "ipython3",
   "version": "3.6.1"
  }
 },
 "nbformat": 4,
 "nbformat_minor": 2
}
